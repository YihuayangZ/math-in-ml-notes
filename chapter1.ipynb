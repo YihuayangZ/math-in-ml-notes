{
 "cells": [
  {
   "cell_type": "code",
   "execution_count": null,
   "id": "d9fad6ba-d4e7-4da5-b50e-346e58e9c135",
   "metadata": {},
   "outputs": [],
   "source": [
    "# Chapter 1 - Introduction\n",
    "这是测试用的笔记。\n",
    "\n",
    "公式测试：$E = mc^2$"
   ]
  }
 ],
 "metadata": {
  "kernelspec": {
   "display_name": "Python 3 (ipykernel)",
   "language": "python",
   "name": "python3"
  },
  "language_info": {
   "codemirror_mode": {
    "name": "ipython",
    "version": 3
   },
   "file_extension": ".py",
   "mimetype": "text/x-python",
   "name": "python",
   "nbconvert_exporter": "python",
   "pygments_lexer": "ipython3",
   "version": "3.11.5"
  }
 },
 "nbformat": 4,
 "nbformat_minor": 5
}
